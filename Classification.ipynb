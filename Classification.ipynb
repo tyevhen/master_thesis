{
 "cells": [
  {
   "cell_type": "code",
   "execution_count": 35,
   "metadata": {},
   "outputs": [
    {
     "name": "stdout",
     "output_type": "stream",
     "text": [
      "Populating the interactive namespace from numpy and matplotlib\n"
     ]
    },
    {
     "name": "stderr",
     "output_type": "stream",
     "text": [
      "/home/yevhen/anaconda3/lib/python3.6/site-packages/IPython/core/magics/pylab.py:160: UserWarning: pylab import has clobbered these variables: ['shuffle']\n",
      "`%matplotlib` prevents importing * from pylab and numpy\n",
      "  \"\\n`%matplotlib` prevents importing * from pylab and numpy\"\n"
     ]
    }
   ],
   "source": [
    "from data_helper import load_dump\n",
    "from topic_analysis import *\n",
    "from sklearn.feature_extraction.text import CountVectorizer, TfidfVectorizer\n",
    "from sklearn.decomposition import LatentDirichletAllocation\n",
    "from sklearn.ensemble import RandomForestClassifier\n",
    "from sklearn.linear_model import LogisticRegression\n",
    "from sklearn.naive_bayes import GaussianNB, MultinomialNB\n",
    "from sklearn.metrics import precision_score, recall_score, confusion_matrix\n",
    "from sklearn.svm import SVC\n",
    "import numpy as np\n",
    "%matplotlib inline\n",
    "%pylab inline\n",
    "pylab.rcParams['figure.figsize'] = (15, 10)"
   ]
  },
  {
   "cell_type": "code",
   "execution_count": 3,
   "metadata": {},
   "outputs": [],
   "source": [
    "Xtrain = load_dump(\"train_pt_new\")\n",
    "Xdev = load_dump(\"dev_pt_new\")\n",
    "\n",
    "Ytrain = load_dump(\"Ytrain_new\")\n",
    "Ydev = load_dump(\"Ydev_new\")"
   ]
  },
  {
   "cell_type": "code",
   "execution_count": 4,
   "metadata": {},
   "outputs": [],
   "source": [
    "from sklearn.utils import shuffle\n",
    "trainX, trainY = shuffle(Xtrain, Ytrain)\n",
    "devX, devY = shuffle(Xdev, Ydev)\n",
    "trainX, trainY = Xtrain, Ytrain\n",
    "devX, devY = Xdev, Ydev"
   ]
  },
  {
   "cell_type": "code",
   "execution_count": 5,
   "metadata": {},
   "outputs": [],
   "source": [
    "vec = CountVectorizer(max_features=100000, min_df=3, max_df=0.8)"
   ]
  },
  {
   "cell_type": "code",
   "execution_count": 7,
   "metadata": {},
   "outputs": [],
   "source": [
    "vec.fit(trainX+devX)\n",
    "vec_all = vec.transform(trainX+devX)\n",
    "vec_trn = vec.transform(trainX)\n",
    "vec_dev = vec.transform(devX)"
   ]
  },
  {
   "cell_type": "code",
   "execution_count": 6,
   "metadata": {},
   "outputs": [
    {
     "ename": "NameError",
     "evalue": "name 'num_topics' is not defined",
     "output_type": "error",
     "traceback": [
      "\u001b[0;31m---------------------------------------------------------------------------\u001b[0m",
      "\u001b[0;31mNameError\u001b[0m                                 Traceback (most recent call last)",
      "\u001b[0;32m<ipython-input-6-0b60665518fb>\u001b[0m in \u001b[0;36m<module>\u001b[0;34m()\u001b[0m\n\u001b[0;32m----> 1\u001b[0;31m \u001b[0mcolors\u001b[0m \u001b[0;34m=\u001b[0m \u001b[0mcm\u001b[0m\u001b[0;34m.\u001b[0m\u001b[0mrainbow\u001b[0m\u001b[0;34m(\u001b[0m\u001b[0mnp\u001b[0m\u001b[0;34m.\u001b[0m\u001b[0mlinspace\u001b[0m\u001b[0;34m(\u001b[0m\u001b[0;36m0\u001b[0m\u001b[0;34m,\u001b[0m \u001b[0;36m1\u001b[0m\u001b[0;34m,\u001b[0m \u001b[0mnum_topics\u001b[0m\u001b[0;34m)\u001b[0m\u001b[0;34m)\u001b[0m\u001b[0;34m\u001b[0m\u001b[0m\n\u001b[0m",
      "\u001b[0;31mNameError\u001b[0m: name 'num_topics' is not defined"
     ]
    }
   ],
   "source": [
    "colors = cm.rainbow(np.linspace(0, 1, num_topics))"
   ]
  },
  {
   "cell_type": "markdown",
   "metadata": {},
   "source": [
    "# Logistic regression"
   ]
  },
  {
   "cell_type": "code",
   "execution_count": 157,
   "metadata": {},
   "outputs": [],
   "source": [
    "from sklearn.model_selection import GridSearchCV"
   ]
  },
  {
   "cell_type": "code",
   "execution_count": 158,
   "metadata": {},
   "outputs": [
    {
     "name": "stdout",
     "output_type": "stream",
     "text": [
      "0.9414639564589581\n",
      "0.559981684981685\n"
     ]
    },
    {
     "data": {
      "text/plain": [
       "array([308, 866,  95, 915])"
      ]
     },
     "execution_count": 158,
     "metadata": {},
     "output_type": "execute_result"
    }
   ],
   "source": [
    "clf_lr = LogisticRegression()\n",
    "clf_lr.fit(train_pt, trainY)\n",
    "print(clf_lr.score(train_pt, trainY))\n",
    "print(clf_lr.score(dev_pt, devY))\n",
    "lr_preds = clf_lr.predict(dev_pt)\n",
    "confusion_matrix(devY, lr_preds).ravel()\n"
   ]
  },
  {
   "cell_type": "code",
   "execution_count": 159,
   "metadata": {},
   "outputs": [
    {
     "name": "stdout",
     "output_type": "stream",
     "text": [
      "0.5137563166760247\n",
      "0.905940594059406\n",
      "0.559981684981685\n"
     ]
    }
   ],
   "source": [
    "print(precision_score(devY, lr_preds))\n",
    "print(recall_score(devY, lr_preds))\n",
    "print(np.mean(devY == lr_preds))"
   ]
  },
  {
   "cell_type": "markdown",
   "metadata": {},
   "source": [
    "# Naive Bayes: LDA features"
   ]
  },
  {
   "cell_type": "markdown",
   "metadata": {},
   "source": [
    "tn, fp, fn, tp"
   ]
  },
  {
   "cell_type": "code",
   "execution_count": 160,
   "metadata": {},
   "outputs": [
    {
     "name": "stdout",
     "output_type": "stream",
     "text": [
      "0.9343552149283573\n",
      "0.5457875457875457\n"
     ]
    },
    {
     "data": {
      "text/plain": [
       "array([279, 895,  97, 913])"
      ]
     },
     "execution_count": 160,
     "metadata": {},
     "output_type": "execute_result"
    }
   ],
   "source": [
    "clf_nb = MultinomialNB()\n",
    "clf_nb.fit(train_pt, trainY)\n",
    "print(clf_nb.score(train_pt, trainY))\n",
    "print(clf_nb.score(dev_pt, devY))\n",
    "nb_preds = clf_nb.predict(dev_pt)\n",
    "confusion_matrix(devY, nb_preds).ravel()"
   ]
  },
  {
   "cell_type": "markdown",
   "metadata": {},
   "source": [
    "# Naive Bayes: TFIDF features"
   ]
  },
  {
   "cell_type": "code",
   "execution_count": 43,
   "metadata": {},
   "outputs": [],
   "source": [
    "# all_data = trainX+devX"
   ]
  },
  {
   "cell_type": "code",
   "execution_count": 51,
   "metadata": {},
   "outputs": [],
   "source": [
    "# tfidf = TfidfVectorizer()\n",
    "# tfidf.fit(all_data)"
   ]
  },
  {
   "cell_type": "code",
   "execution_count": 52,
   "metadata": {},
   "outputs": [],
   "source": [
    "# tfidf_train = tfidf.transform(trainX)\n",
    "# tfidf_dev = tfidf.transform(devX)\n",
    "# print(tfidf_train[0])\n",
    "# "
   ]
  },
  {
   "cell_type": "code",
   "execution_count": 53,
   "metadata": {},
   "outputs": [],
   "source": [
    "# nb_tfidf = MultinomialNB()\n",
    "# nb_tfidf.fit(tfidf_train, trainY)\n",
    "# print(clf_nb.score(tfidf_train, trainY))\n",
    "# print(clf_nb.score(tfidf_dev, devY))\n",
    "# tfnb_preds = clf_nb.predict(tfidf_dev)\n",
    "# conf_matr = confusion_matrix(devY, tfnb_preds).ravel()\n",
    "# conf_matr"
   ]
  },
  {
   "cell_type": "markdown",
   "metadata": {},
   "source": [
    "# SVM"
   ]
  },
  {
   "cell_type": "code",
   "execution_count": null,
   "metadata": {},
   "outputs": [],
   "source": [
    "def svm_param_search(data, labels, folds):\n",
    "    Cs = [0.001, 0.01, 0.1, 0.5, 1, 2, 3, 4, 5, 6, 7, 13, 15, 17, 21, 23, 25, 27]\n",
    "    gammas = [0.01, 0.05, 0.1, 0.5, 1, 2, 10, 15]\n",
    "    param_grid = {'C': Cs, 'gamma': gammas}\n",
    "    grid_search = GridSearchCV(SVC(kernel='rbf'), param_grid, cv=folds)\n",
    "    grid_search.fit(data, labels)\n",
    "    grid_search.best_params_\n",
    "    return grid_search.best_params_"
   ]
  },
  {
   "cell_type": "code",
   "execution_count": null,
   "metadata": {},
   "outputs": [],
   "source": [
    "svm_param_search(train_pt, trainY, 7)"
   ]
  },
  {
   "cell_type": "code",
   "execution_count": 173,
   "metadata": {},
   "outputs": [
    {
     "name": "stdout",
     "output_type": "stream",
     "text": [
      "0.9012551371764967\n",
      "0.7147435897435898\n"
     ]
    },
    {
     "data": {
      "text/plain": [
       "array([845, 329, 294, 716])"
      ]
     },
     "execution_count": 173,
     "metadata": {},
     "output_type": "execute_result"
    }
   ],
   "source": [
    "clf_svm = SVC(C=0.01, gamma=10, kernel=\"rbf\")\n",
    "clf_svm.fit(train_pt, trainY)\n",
    "print(clf_svm.score(train_pt, trainY))\n",
    "print(clf_svm.score(dev_pt, devY))\n",
    "svm_preds = clf_svm.predict(dev_pt)\n",
    "confusion_matrix(devY, svm_preds).ravel()\n"
   ]
  },
  {
   "cell_type": "markdown",
   "metadata": {},
   "source": [
    "# Topic number search"
   ]
  },
  {
   "cell_type": "code",
   "execution_count": 38,
   "metadata": {},
   "outputs": [],
   "source": [
    "topics_grid = [5, 10, 15, 20, 30, 40, 50, 60, 75, 80, 100]\n",
    "all_scores = {}\n",
    "best_scores = {}\n",
    "best_score = 0\n",
    "best_lda = None"
   ]
  },
  {
   "cell_type": "code",
   "execution_count": null,
   "metadata": {},
   "outputs": [
    {
     "name": "stdout",
     "output_type": "stream",
     "text": [
      "Fitting LDA with 5 topics\n",
      "Current score 0.5444139194139194\n",
      "--------------------------\n",
      "\n",
      "Fitting LDA with 10 topics\n",
      "Current score 0.5247252747252747\n",
      "--------------------------\n",
      "\n",
      "Fitting LDA with 15 topics\n",
      "Current score 0.6126373626373627\n",
      "--------------------------\n",
      "\n",
      "Fitting LDA with 20 topics\n",
      "Current score 0.6309523809523809\n",
      "--------------------------\n",
      "\n",
      "Fitting LDA with 30 topics\n",
      "Current score 0.7673992673992674\n",
      "--------------------------\n",
      "\n",
      "Fitting LDA with 40 topics\n",
      "Current score 0.6675824175824175\n",
      "--------------------------\n",
      "\n",
      "Fitting LDA with 50 topics\n",
      "Current score 0.5943223443223443\n",
      "--------------------------\n",
      "\n",
      "Fitting LDA with 60 topics\n"
     ]
    }
   ],
   "source": [
    "for topic_number in topics_grid:\n",
    "    lda_tune = LatentDirichletAllocation(n_components=topic_number, learning_method='batch', random_state=10)\n",
    "    print(\"Fitting LDA with\", topic_number, \"topics\")\n",
    "    lda_tune.fit(vec_all)\n",
    "    train_pt = lda_tune.transform(vec_trn)\n",
    "    dev_pt = lda_tune.transform(vec_dev)\n",
    "    \n",
    "    svm = SVC(C=0.01, gamma=10, kernel=\"rbf\")\n",
    "    svm.fit(train_pt, trainY)\n",
    "    curr_score = svm.score(dev_pt, devY)\n",
    "    print(\"Current score\", curr_score)\n",
    "    print(\"--------------------------\\n\")\n",
    "    \n",
    "    all_scores[topic_number] = curr_score\n",
    "    \n",
    "    if curr_score > best_score:\n",
    "        best_scores[topic_number] = curr_score\n",
    "        best_score = curr_score\n",
    "        best_lda = lda_tune\n"
   ]
  },
  {
   "cell_type": "code",
   "execution_count": null,
   "metadata": {},
   "outputs": [],
   "source": [
    "svc = SVC(C=0.01, gamma=10, kernel=\"rbf\")\n"
   ]
  },
  {
   "cell_type": "code",
   "execution_count": 12,
   "metadata": {},
   "outputs": [],
   "source": [
    "import seaborn as sns\n",
    "sns.set_style('darkgrid')\n",
    "sns.set_palette('muted')\n",
    "sns.set_context(\"notebook\", font_scale=1.5,\n",
    "                rc={\"lines.linewidth\": 2.5})"
   ]
  },
  {
   "cell_type": "code",
   "execution_count": 10,
   "metadata": {},
   "outputs": [
    {
     "data": {
      "text/plain": [
       "{5: 0.5444139194139194,\n",
       " 15: 0.6126373626373627,\n",
       " 20: 0.6309523809523809,\n",
       " 30: 0.7673992673992674}"
      ]
     },
     "execution_count": 10,
     "metadata": {},
     "output_type": "execute_result"
    }
   ],
   "source": [
    "best_scores"
   ]
  },
  {
   "cell_type": "code",
   "execution_count": 27,
   "metadata": {},
   "outputs": [
    {
     "data": {
      "text/plain": [
       "[(5, 0.5444139194139194),\n",
       " (10, 0.5247252747252747),\n",
       " (15, 0.6126373626373627),\n",
       " (20, 0.6309523809523809),\n",
       " (30, 0.7673992673992674),\n",
       " (40, 0.6675824175824175),\n",
       " (50, 0.5943223443223443),\n",
       " (60, 0.5412087912087912),\n",
       " (75, 0.5512820512820513),\n",
       " (80, 0.6662087912087912),\n",
       " (100, 0.5970695970695971)]"
      ]
     },
     "execution_count": 27,
     "metadata": {},
     "output_type": "execute_result"
    }
   ],
   "source": [
    "all_scores"
   ]
  },
  {
   "cell_type": "code",
   "execution_count": 32,
   "metadata": {},
   "outputs": [
    {
     "data": {
      "text/plain": [
       "(5, 0.5444139194139194)"
      ]
     },
     "execution_count": 32,
     "metadata": {},
     "output_type": "execute_result"
    }
   ],
   "source": [
    "# all_scores = [(k, v) for k,v in all_scores.items()]\n",
    "all_scores[0]"
   ]
  },
  {
   "cell_type": "code",
   "execution_count": 36,
   "metadata": {},
   "outputs": [
    {
     "data": {
      "text/plain": [
       "[<matplotlib.lines.Line2D at 0x7f123a013828>]"
      ]
     },
     "execution_count": 36,
     "metadata": {},
     "output_type": "execute_result"
    },
    {
     "data": {
      "image/png": "[encoded data removed]",
      "text/plain": [
       "<matplotlib.figure.Figure at 0x7f123a224cc0>"
      ]
     },
     "metadata": {},
     "output_type": "display_data"
    }
   ],
   "source": [
    "plt.plot([all_scores[i][0] for i in range(len(all_scores))], [all_scores[i][1] for i in range(len(all_scores))])"
   ]
  },
  {
   "cell_type": "code",
   "execution_count": 107,
   "metadata": {},
   "outputs": [],
   "source": [
    "from collections import Counter"
   ]
  },
  {
   "cell_type": "code",
   "execution_count": 108,
   "metadata": {},
   "outputs": [
    {
     "data": {
      "text/plain": [
       "Counter({0: 4457, 1: 4546})"
      ]
     },
     "execution_count": 108,
     "metadata": {},
     "output_type": "execute_result"
    }
   ],
   "source": [
    "c = Counter()\n",
    "Counter(trainY)\n"
   ]
  },
  {
   "cell_type": "code",
   "execution_count": 93,
   "metadata": {},
   "outputs": [
    {
     "data": {
      "text/plain": [
       "Counter({0: 1174, 1: 1010})"
      ]
     },
     "execution_count": 93,
     "metadata": {},
     "output_type": "execute_result"
    }
   ],
   "source": [
    "Counter(devY)"
   ]
  },
  {
   "cell_type": "code",
   "execution_count": null,
   "metadata": {},
   "outputs": [],
   "source": [
    ", min_df=3, max_df=0.7"
   ]
  }
 ],
 "metadata": {
  "kernelspec": {
   "display_name": "Python 3",
   "language": "python",
   "name": "python3"
  },
  "language_info": {
   "codemirror_mode": {
    "name": "ipython",
    "version": 3
   },
   "file_extension": ".py",
   "mimetype": "text/x-python",
   "name": "python",
   "nbconvert_exporter": "python",
   "pygments_lexer": "ipython3",
   "version": "3.6.4"
  }
 },
 "nbformat": 4,
 "nbformat_minor": 2
}
